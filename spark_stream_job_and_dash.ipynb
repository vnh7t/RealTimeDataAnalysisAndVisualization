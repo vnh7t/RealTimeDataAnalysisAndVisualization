{
 "cells": [
  {
   "cell_type": "code",
   "execution_count": 1,
   "id": "add492e5-0c8b-4b93-9d20-97dfda444c58",
   "metadata": {},
   "outputs": [
    {
     "name": "stderr",
     "output_type": "stream",
     "text": [
      "WARNING: An illegal reflective access operation has occurred\n",
      "WARNING: Illegal reflective access by org.apache.spark.unsafe.Platform (file:/Library/Frameworks/Python.framework/Versions/3.9/lib/python3.9/site-packages/pyspark/jars/spark-unsafe_2.12-3.1.2.jar) to constructor java.nio.DirectByteBuffer(long,int)\n",
      "WARNING: Please consider reporting this to the maintainers of org.apache.spark.unsafe.Platform\n",
      "WARNING: Use --illegal-access=warn to enable warnings of further illegal reflective access operations\n",
      "WARNING: All illegal access operations will be denied in a future release\n",
      "22/05/02 11:54:35 WARN NativeCodeLoader: Unable to load native-hadoop library for your platform... using builtin-java classes where applicable\n",
      "Using Spark's default log4j profile: org/apache/spark/log4j-defaults.properties\n",
      "Setting default log level to \"WARN\".\n",
      "To adjust logging level use sc.setLogLevel(newLevel). For SparkR, use setLogLevel(newLevel).\n",
      "22/05/02 11:54:45 WARN BLAS: Failed to load implementation from: com.github.fommil.netlib.NativeSystemBLAS\n",
      "22/05/02 11:54:45 WARN BLAS: Failed to load implementation from: com.github.fommil.netlib.NativeRefBLAS\n"
     ]
    }
   ],
   "source": [
    "# define a function to compute sentiments of the received tweets\n",
    "from pyspark.ml import PipelineModel\n",
    "pipelineFit=PipelineModel.load(\"preprocessingAndLR\")\n",
    "pipelineFitBBC=PipelineModel.load(\"preprocessingAndCategory\")\n"
   ]
  },
  {
   "cell_type": "code",
   "execution_count": 2,
   "id": "ff842fb9",
   "metadata": {},
   "outputs": [
    {
     "name": "stdout",
     "output_type": "stream",
     "text": [
      "PipelineModel_f3cba0012413\n"
     ]
    }
   ],
   "source": [
    "print(pipelineFit)"
   ]
  },
  {
   "cell_type": "code",
   "execution_count": 5,
   "id": "f454853e-9f7e-4187-9fe7-539fa85ada05",
   "metadata": {
    "scrolled": true
   },
   "outputs": [
    {
     "name": "stderr",
     "output_type": "stream",
     "text": [
      "22/05/02 11:59:59 WARN TextSocketSourceProvider: The socket source should not be used for production applications! It does not support recovery.\n"
     ]
    },
    {
     "name": "stdout",
     "output_type": "stream",
     "text": [
      "----- streaming is running -------\n"
     ]
    },
    {
     "name": "stderr",
     "output_type": "stream",
     "text": [
      "22/05/02 12:00:01 WARN StreamingQueryManager: Temporary checkpoint location created which is deleted normally when the query didn't fail: /private/var/folders/87/_c2ttbjn7tl1w8dzqfn6nz7w0000gn/T/temporary-6b907440-72f1-436e-8527-f007e9243295. If it's required to delete it under any circumstances, please set spark.sql.streaming.forceDeleteTempCheckpointLocation to true. Important to know deleting temp checkpoint folder is best effort.\n"
     ]
    }
   ],
   "source": [
    "from pyspark.sql import SparkSession\n",
    "from pyspark.sql.functions import *\n",
    "from pyspark.sql.types import *\n",
    "from pyspark.sql.functions import col, split, explode, when\n",
    "from pyspark.conf import SparkConf\n",
    "from pyspark.context import SparkContext\n",
    "import time\n",
    "\n",
    "if __name__ == \"__main__\":\n",
    "    spark = SparkSession.builder.appName(\"TwitterSentimentAnalysis\").getOrCreate()\n",
    "\n",
    "    # read the tweet data from socket\n",
    "    tweet_daf = spark \\\n",
    "        .readStream \\\n",
    "        .format(\"socket\") \\\n",
    "        .option(\"host\", \"0.0.0.0\") \\\n",
    "        .option(\"port\", 5555) \\\n",
    "        .load()\n",
    "\n",
    "    # type cast the column value\n",
    "    tweet_df = tweet_daf.select(explode(split(col(\"value\"), \"TWEET__AN,\")).alias(\"value\"))\n",
    "    tweet_df_string = (tweet_df.withColumn('tweet', split(tweet_df['value'], '____SEP,').getItem(0)).withColumn('location', split(tweet_df['value'], '____SEP,').getItem(1)).withColumn('favorites', split(tweet_df['value'], '____SEP,').getItem(2)).withColumn('followers', split(tweet_df['value'], '____SEP,').getItem(3)).withColumn('timestamp', split(tweet_df['value'], '____SEP,').getItem(4)).withColumn('name', split(tweet_df['value'], '____SEP,').getItem(5)))\n",
    "    \n",
    "    tweet_df_string =tweet_df_string.drop(\"value\")\n",
    "    tweet_df_sentiment = pipelineFit.transform(tweet_df_string).drop(\"tokens\",\"filtered_words\",\"vector\",\"rawPrediction\",\"probability\")\n",
    "    tweet_df_sentiment=tweet_df_sentiment.withColumnRenamed(\"prediction\",\"sentiment\")\n",
    "    tweet_df_fl = pipelineFitBBC.transform(tweet_df_sentiment).drop(\"tokens\",\"filtered_words\",\"vector\",\"rawPrediction\",\"probability\",\"cf\")\n",
    "    tweet_df_fl = tweet_df_fl.withColumn(\"favorites\",col(\"favorites\").cast(\"int\")+1)\n",
    "    tweet_df_fl = tweet_df_fl.withColumn(\"followers\",col(\"followers\").cast(\"int\"))\n",
    "    tweet_df_fl = tweet_df_fl.withColumn(\"prediction\", when(tweet_df_fl.prediction == 0,\"tech\") \\\n",
    "          .when(tweet_df_fl.prediction == 1,\"business\").when(tweet_df_fl.prediction == 2,\"politics\").when(tweet_df_fl.prediction == 3,\"sport\").when(tweet_df_fl.prediction == 4,\"entertainment\").otherwise(\"Null\"))\n",
    "    tweet_df_fl = tweet_df_fl.withColumn(\"sentiment\", when(tweet_df_fl.sentiment == 0.0,\"Negative\") .when(tweet_df_fl.sentiment == 4.0,\"Positive\").otherwise(\"Null\"))\n",
    "    \n",
    "    # write the above data into memory. consider the entire analysis in all iteration (output mode = complete). and let the trigger runs in every 2 secs.\n",
    "    writeTweet = tweet_df_fl.writeStream.format(\"memory\").outputMode(\"append\").queryName(\"processed\").trigger(processingTime ='30 seconds').start()\n",
    "    print(\"----- streaming is running -------\")\n"
   ]
  },
  {
   "cell_type": "code",
   "execution_count": 15,
   "id": "a11a7aaf",
   "metadata": {},
   "outputs": [],
   "source": [
    "spark.stop()"
   ]
  },
  {
   "cell_type": "code",
   "execution_count": 10,
   "id": "4925906a",
   "metadata": {},
   "outputs": [],
   "source": [
    "tweets = spark.sql(\"select * from processed where tweet!=''\")"
   ]
  },
  {
   "cell_type": "code",
   "execution_count": 11,
   "id": "ea913139",
   "metadata": {},
   "outputs": [
    {
     "data": {
      "text/plain": [
       "992"
      ]
     },
     "execution_count": 11,
     "metadata": {},
     "output_type": "execute_result"
    }
   ],
   "source": [
    "tweets.count()"
   ]
  },
  {
   "cell_type": "code",
   "execution_count": 12,
   "id": "0e4278d3",
   "metadata": {
    "scrolled": true
   },
   "outputs": [
    {
     "data": {
      "text/plain": [
       "[Row(tweet='“It is my great honor to be speaking tonight at the nation’s most distinguished superspreader event,” Trevor Noah joked at the top of his set at the White House Correspondents’ Dinner. https://t.co/gzfSpSxKQF', location='El Segundo, CA', favorites=1, followers=3925662, timestamp='Mon May 02 17:00:01 +0000 2022', name='Los Angeles Times', sentiment='Positive', prediction='politics'),\n",
       " Row(tweet='When @UR_Med\\xa0faculty created https://t.co/TGf3mZJiEG to aid the people of #Ukraine, one primary care physician wanted to do more than simply donate. ', location=None, favorites=None, followers=None, timestamp=None, name=None, sentiment='Negative', prediction='business'),\n",
       " Row(tweet='If only @theallinpod would ever challenge his BS', location='United States', favorites=1, followers=58, timestamp='Mon May 02 17:00:01 +0000 2022', name='WallyO14', sentiment='Negative', prediction='sport'),\n",
       " Row(tweet=\"What Trevor Noah Got Desperately Wrong at the White House Correspondent's Dinner -- Dahlia Lithwick https://t.co/5TyVJ4DBzV\", location='Boston, MA', favorites=1, followers=555, timestamp='Mon May 02 17:00:01 +0000 2022', name='ZAQS Politics News', sentiment='Positive', prediction='politics'),\n",
       " Row(tweet='Brian and Rose Segrave, a couple from San Marcos, said the events unfolding in Ukraine were “unacceptable” and it was time to do something about it.', location=None, favorites=None, followers=None, timestamp=None, name=None, sentiment='Negative', prediction='sport'),\n",
       " Row(tweet='...but (even tacitly) calling for a ceasefire in order to save human lives (rather than prolonging an unwinnable civil war) was definitively much better!', location=None, favorites=None, followers=None, timestamp=None, name=None, sentiment='Positive', prediction='politics'),\n",
       " Row(tweet='When there is #Flood #Earthquake ', location=None, favorites=None, followers=None, timestamp=None, name=None, sentiment='Negative', prediction='sport'),\n",
       " Row(tweet='https://t.co/GHS0627Nns', location='Kyiv, Ukraine', favorites=1, followers=84, timestamp='Mon May 02 17:00:02 +0000 2022', name='Save Ukraine Now', sentiment='Positive', prediction='entertainment'),\n",
       " Row(tweet='RT @TaraCopp: State Department officials are beginning to make day trips back into Ukraine -- there are not U.S. military personnel providi…', location='Greeley, Colorado', favorites=1, followers=5889, timestamp='Mon May 02 17:00:02 +0000 2022', name='John A. Daly', sentiment='Negative', prediction='politics'),\n",
       " Row(tweet=\"@EnjoyerOfOC He's got a higher approval among Democrats and Indies than Republican and rural turnout would be in the gutter if there wasn't a populist nominee for Senator. I think he's saved by the wave and Vance's coattails. R+9\", location='Texas, USA', favorites=1, followers=688, timestamp='Mon May 02 17:00:02 +0000 2022', name=\"Ye's Political Analysis\", sentiment='Negative', prediction='politics')]"
      ]
     },
     "execution_count": 12,
     "metadata": {},
     "output_type": "execute_result"
    }
   ],
   "source": [
    "tweets.head(10)"
   ]
  },
  {
   "cell_type": "code",
   "execution_count": null,
   "id": "eaf4e3be",
   "metadata": {},
   "outputs": [],
   "source": [
    "%pylab inline\n",
    "import plotly.express as px"
   ]
  },
  {
   "cell_type": "code",
   "execution_count": 13,
   "id": "d1258694",
   "metadata": {},
   "outputs": [
    {
     "name": "stdout",
     "output_type": "stream",
     "text": [
      "<class 'pandas.core.frame.DataFrame'>\n",
      "RangeIndex: 2 entries, 0 to 1\n",
      "Data columns (total 2 columns):\n",
      " #   Column     Non-Null Count  Dtype \n",
      "---  ------     --------------  ----- \n",
      " 0   sentiment  2 non-null      object\n",
      " 1   count      2 non-null      int64 \n",
      "dtypes: int64(1), object(1)\n",
      "memory usage: 160.0+ bytes\n"
     ]
    }
   ],
   "source": [
    "import dash\n",
    "import dash_core_components as dcc\n",
    "import dash_html_components as html\n",
    "import pandas as pd\n",
    "import plotly.graph_objects as go\n",
    "\n",
    "import plotly.express as px\n",
    "PORT = 5554\n",
    "data = spark.sql(\"select * from processed\").groupBy(\"sentiment\").count().toPandas()\n",
    "\n",
    "data.info()\n",
    "#data.info()\n",
    "app = dash.Dash(__name__)\n",
    "app.layout = html.Div(\n",
    "    children=[\n",
    "        html.H1(children=\"LIVE DASHBOARD\",),\n",
    "        html.H3(children=\"Top 3 Tweets From Most Influenced People on live\",)\n",
    "        , dcc.Interval('userwithtopfollwers-graph-update', interval = 20000, n_intervals = 0),\n",
    "        dcc.Graph(id='userwithtopfollwers-graph'),\n",
    "        html.H3(children=\"Top 3 liked Tweets on live\",),\n",
    "        dcc.Interval('tweetwithtoplikes-graph-update', interval = 20000, n_intervals = 0),\n",
    "        dcc.Graph(id='tweetwithtoplikes-graph'),\n",
    "        \n",
    "        html.H3(children=\"Overall Positive and Negative tweets classification\",),\n",
    "        dcc.Interval('sentiment-graph-update', interval = 20000, n_intervals = 0),\n",
    "        dcc.Graph(id='sentiment-graph'),\n",
    "        \n",
    "        html.H3(children=\"Overall Tweets in each Category\",),\n",
    "        dcc.Interval('category-graph-update', interval = 20000, n_intervals = 0),\n",
    "        dcc.Graph(id='category-graph'),\n",
    "        \n",
    "        html.H3(children=\"Overall Positive and Negative Tweets in each Category\",),\n",
    "        dcc.Interval('sentiment-category-graph-update', interval = 20000, n_intervals = 0),\n",
    "        dcc.Graph(id='sentiment-category-graph'),\n",
    "        \n",
    "        html.H3(children=\"Total likes for Tweets based on Sentiment\",),\n",
    "        dcc.Interval('weight-graph-update', interval = 20000, n_intervals = 0),\n",
    "        dcc.Graph(id='weight-graph'),\n",
    "       \n",
    "        \n",
    "    ]\n",
    ")\n",
    "@app.callback(\n",
    "        dash.dependencies.Output('sentiment-graph','figure'),\n",
    "        [dash.dependencies.Input('sentiment-graph-update', 'n_intervals')])\n",
    "def display_structure(n):\n",
    "    df = spark.sql(\"select * from processed where tweet!=''\").groupBy(\"sentiment\").count().toPandas()\n",
    "    fig = px.bar(df, x=\"sentiment\", y=\"count\")\n",
    "    return fig\n",
    "\n",
    "@app.callback(\n",
    "        dash.dependencies.Output('category-graph','figure'),\n",
    "        [dash.dependencies.Input('category-graph-update', 'n_intervals')])\n",
    "def display_structure_2(n):\n",
    "    df = spark.sql(\"select * from processed where tweet!=''\").groupBy(\"prediction\").count().toPandas()\n",
    "    fig = px.pie(df, values='count', names='prediction',)\n",
    "    return fig\n",
    "\n",
    "@app.callback(\n",
    "        dash.dependencies.Output('sentiment-category-graph','figure'),\n",
    "        [dash.dependencies.Input('sentiment-category-graph-update', 'n_intervals')])\n",
    "def display_structure_3(n):\n",
    "    df = spark.sql(\"select * from processed where tweet!=''\").groupBy(\"sentiment\",\"prediction\").count().toPandas()\n",
    "    fig = px.bar(df, x=\"prediction\", y=\"count\", color=\"sentiment\",title=\"Overall Positive and Negative Tweets in each Category\")\n",
    "    return fig\n",
    "\n",
    "@app.callback(\n",
    "        dash.dependencies.Output('weight-graph','figure'),\n",
    "        [dash.dependencies.Input('weight-graph-update', 'n_intervals')])\n",
    "def display_structure_4(n):\n",
    "    df = spark.sql(\"select sentiment,count(favorites) as count from processed where tweet!='' group by sentiment\").toPandas()\n",
    "    #df = df.groupby(\"sentiment\").favorites.sum()\n",
    "    #fig = px.bar(df, x=\"favorites\", y=\"followers\")\n",
    "    fig = px.bar(df,x=\"sentiment\",y=\"count\", color=\"sentiment\", title=\"Total likes for Tweets based on Sentiment\")\n",
    "    return fig\n",
    "\n",
    "@app.callback(\n",
    "        dash.dependencies.Output('userwithtopfollwers-graph','figure'),\n",
    "        [dash.dependencies.Input('userwithtopfollwers-graph-update', 'n_intervals')])\n",
    "def display_structure_5(n):\n",
    "    df = tweetPandas=spark.sql(\"select tweet,name,sentiment,followers from processed where tweet!='' order by followers desc limit 3\").toPandas()\n",
    "    #df = df.groupby(\"sentiment\").favorites.sum()\n",
    "    #fig = px.bar(df, x=\"favorites\", y=\"followers\")\n",
    "    fig = go.Figure(data=[go.Table(header=dict(values=list(df.columns),fill_color='paleturquoise',align='left'),cells=dict(values=[df.tweet, df.name, df.sentiment, df.followers],fill_color='lavender',align='left'))])\n",
    "    return fig\n",
    "\n",
    "@app.callback(\n",
    "        dash.dependencies.Output('tweetwithtoplikes-graph','figure'),\n",
    "        [dash.dependencies.Input('tweetwithtoplikes-graph-update', 'n_intervals')])\n",
    "def display_structure_6(n):\n",
    "    df = tweetPandas=spark.sql(\"select tweet,name,sentiment,favorites from processed where tweet!='' order by favorites desc limit 3\").toPandas()\n",
    "    #df = df.groupby(\"sentiment\").favorites.sum()\n",
    "    #fig = px.bar(df, x=\"favorites\", y=\"followers\")\n",
    "    fig = go.Figure(data=[go.Table(header=dict(values=list(df.columns),fill_color='paleturquoise',align='left'),cells=dict(values=[df.tweet, df.name, df.sentiment, df.favorites],fill_color='lavender',align='left'))])\n",
    "    return fig\n",
    "\n",
    "\n",
    "\n"
   ]
  },
  {
   "cell_type": "code",
   "execution_count": 14,
   "id": "5132835b",
   "metadata": {
    "scrolled": false
   },
   "outputs": [
    {
     "name": "stdout",
     "output_type": "stream",
     "text": [
      "Dash is running on http://127.0.0.1:5554/\n",
      "\n",
      " Warning: This is a development server. Do not use app.run_server\n",
      " in production, use a production WSGI server like gunicorn instead.\n",
      "\n",
      " * Serving Flask app '__main__' (lazy loading)\n",
      " * Environment: production\n",
      "\u001b[31m   WARNING: This is a development server. Do not use it in a production deployment.\u001b[0m\n",
      "\u001b[2m   Use a production WSGI server instead.\u001b[0m\n",
      " * Debug mode: off\n"
     ]
    },
    {
     "name": "stderr",
     "output_type": "stream",
     "text": [
      " * Running on http://127.0.0.1:5554/ (Press CTRL+C to quit)\n",
      "127.0.0.1 - - [02/May/2022 12:01:04] \"GET / HTTP/1.1\" 200 -\n",
      "127.0.0.1 - - [02/May/2022 12:01:05] \"GET /_dash-layout HTTP/1.1\" 200 -\n",
      "127.0.0.1 - - [02/May/2022 12:01:05] \"GET /_dash-dependencies HTTP/1.1\" 200 -\n",
      "127.0.0.1 - - [02/May/2022 12:01:05] \"POST /_dash-update-component HTTP/1.1\" 200 -\n",
      "127.0.0.1 - - [02/May/2022 12:01:05] \"POST /_dash-update-component HTTP/1.1\" 200 -\n",
      "127.0.0.1 - - [02/May/2022 12:01:07] \"POST /_dash-update-component HTTP/1.1\" 200 -\n",
      "127.0.0.1 - - [02/May/2022 12:01:08] \"POST /_dash-update-component HTTP/1.1\" 200 -\n",
      "127.0.0.1 - - [02/May/2022 12:01:08] \"POST /_dash-update-component HTTP/1.1\" 200 -\n",
      "127.0.0.1 - - [02/May/2022 12:01:08] \"POST /_dash-update-component HTTP/1.1\" 200 -\n",
      "127.0.0.1 - - [02/May/2022 12:01:17] \"POST /_dash-update-component HTTP/1.1\" 200 -\n",
      "127.0.0.1 - - [02/May/2022 12:01:17] \"POST /_dash-update-component HTTP/1.1\" 200 -\n",
      "127.0.0.1 - - [02/May/2022 12:01:18] \"POST /_dash-update-component HTTP/1.1\" 200 -\n",
      "127.0.0.1 - - [02/May/2022 12:01:18] \"POST /_dash-update-component HTTP/1.1\" 200 -\n",
      "127.0.0.1 - - [02/May/2022 12:01:19] \"POST /_dash-update-component HTTP/1.1\" 200 -\n",
      "127.0.0.1 - - [02/May/2022 12:01:19] \"POST /_dash-update-component HTTP/1.1\" 200 -\n",
      "127.0.0.1 - - [02/May/2022 12:01:25] \"POST /_dash-update-component HTTP/1.1\" 200 -\n",
      "127.0.0.1 - - [02/May/2022 12:01:25] \"POST /_dash-update-component HTTP/1.1\" 200 -\n",
      "127.0.0.1 - - [02/May/2022 12:01:26] \"POST /_dash-update-component HTTP/1.1\" 200 -\n",
      "127.0.0.1 - - [02/May/2022 12:01:26] \"POST /_dash-update-component HTTP/1.1\" 200 -\n",
      "127.0.0.1 - - [02/May/2022 12:01:26] \"POST /_dash-update-component HTTP/1.1\" 200 -\n",
      "127.0.0.1 - - [02/May/2022 12:01:26] \"POST /_dash-update-component HTTP/1.1\" 200 -\n",
      "127.0.0.1 - - [02/May/2022 12:01:45] \"POST /_dash-update-component HTTP/1.1\" 200 -\n",
      "127.0.0.1 - - [02/May/2022 12:01:45] \"POST /_dash-update-component HTTP/1.1\" 200 -\n",
      "127.0.0.1 - - [02/May/2022 12:01:46] \"POST /_dash-update-component HTTP/1.1\" 200 -\n",
      "127.0.0.1 - - [02/May/2022 12:01:46] \"POST /_dash-update-component HTTP/1.1\" 200 -\n",
      "127.0.0.1 - - [02/May/2022 12:01:46] \"POST /_dash-update-component HTTP/1.1\" 200 -\n",
      "127.0.0.1 - - [02/May/2022 12:01:46] \"POST /_dash-update-component HTTP/1.1\" 200 -\n",
      "127.0.0.1 - - [02/May/2022 12:02:05] \"POST /_dash-update-component HTTP/1.1\" 200 -\n",
      "127.0.0.1 - - [02/May/2022 12:02:05] \"POST /_dash-update-component HTTP/1.1\" 200 -\n",
      "127.0.0.1 - - [02/May/2022 12:02:06] \"POST /_dash-update-component HTTP/1.1\" 200 -\n",
      "127.0.0.1 - - [02/May/2022 12:02:06] \"POST /_dash-update-component HTTP/1.1\" 200 -\n",
      "127.0.0.1 - - [02/May/2022 12:02:06] \"POST /_dash-update-component HTTP/1.1\" 200 -\n",
      "127.0.0.1 - - [02/May/2022 12:02:06] \"POST /_dash-update-component HTTP/1.1\" 200 -\n",
      "127.0.0.1 - - [02/May/2022 12:02:09] \"POST /_dash-update-component HTTP/1.1\" 200 -\n",
      "127.0.0.1 - - [02/May/2022 12:02:09] \"POST /_dash-update-component HTTP/1.1\" 200 -\n",
      "127.0.0.1 - - [02/May/2022 12:02:10] \"POST /_dash-update-component HTTP/1.1\" 200 -\n",
      "127.0.0.1 - - [02/May/2022 12:02:10] \"POST /_dash-update-component HTTP/1.1\" 200 -\n",
      "127.0.0.1 - - [02/May/2022 12:02:10] \"POST /_dash-update-component HTTP/1.1\" 200 -\n",
      "127.0.0.1 - - [02/May/2022 12:02:10] \"POST /_dash-update-component HTTP/1.1\" 200 -\n",
      "127.0.0.1 - - [02/May/2022 12:02:25] \"POST /_dash-update-component HTTP/1.1\" 200 -\n",
      "127.0.0.1 - - [02/May/2022 12:02:25] \"POST /_dash-update-component HTTP/1.1\" 200 -\n",
      "127.0.0.1 - - [02/May/2022 12:02:26] \"POST /_dash-update-component HTTP/1.1\" 200 -\n",
      "127.0.0.1 - - [02/May/2022 12:02:26] \"POST /_dash-update-component HTTP/1.1\" 200 -\n",
      "127.0.0.1 - - [02/May/2022 12:02:26] \"POST /_dash-update-component HTTP/1.1\" 200 -\n",
      "127.0.0.1 - - [02/May/2022 12:02:26] \"POST /_dash-update-component HTTP/1.1\" 200 -\n",
      "127.0.0.1 - - [02/May/2022 12:02:45] \"POST /_dash-update-component HTTP/1.1\" 200 -\n",
      "127.0.0.1 - - [02/May/2022 12:02:45] \"POST /_dash-update-component HTTP/1.1\" 200 -\n",
      "127.0.0.1 - - [02/May/2022 12:02:46] \"POST /_dash-update-component HTTP/1.1\" 200 -\n",
      "127.0.0.1 - - [02/May/2022 12:02:46] \"POST /_dash-update-component HTTP/1.1\" 200 -\n",
      "127.0.0.1 - - [02/May/2022 12:02:46] \"POST /_dash-update-component HTTP/1.1\" 200 -\n",
      "127.0.0.1 - - [02/May/2022 12:02:46] \"POST /_dash-update-component HTTP/1.1\" 200 -\n",
      "127.0.0.1 - - [02/May/2022 12:03:05] \"POST /_dash-update-component HTTP/1.1\" 200 -\n",
      "127.0.0.1 - - [02/May/2022 12:03:05] \"POST /_dash-update-component HTTP/1.1\" 200 -\n",
      "127.0.0.1 - - [02/May/2022 12:03:05] \"POST /_dash-update-component HTTP/1.1\" 200 -\n",
      "127.0.0.1 - - [02/May/2022 12:03:06] \"POST /_dash-update-component HTTP/1.1\" 200 -\n",
      "127.0.0.1 - - [02/May/2022 12:03:06] \"POST /_dash-update-component HTTP/1.1\" 200 -\n",
      "127.0.0.1 - - [02/May/2022 12:03:06] \"POST /_dash-update-component HTTP/1.1\" 200 -\n",
      "127.0.0.1 - - [02/May/2022 12:03:25] \"POST /_dash-update-component HTTP/1.1\" 200 -\n",
      "127.0.0.1 - - [02/May/2022 12:03:25] \"POST /_dash-update-component HTTP/1.1\" 200 -\n",
      "127.0.0.1 - - [02/May/2022 12:03:26] \"POST /_dash-update-component HTTP/1.1\" 200 -\n",
      "127.0.0.1 - - [02/May/2022 12:03:26] \"POST /_dash-update-component HTTP/1.1\" 200 -\n",
      "127.0.0.1 - - [02/May/2022 12:03:26] \"POST /_dash-update-component HTTP/1.1\" 200 -\n",
      "127.0.0.1 - - [02/May/2022 12:03:26] \"POST /_dash-update-component HTTP/1.1\" 200 -\n",
      "127.0.0.1 - - [02/May/2022 12:03:45] \"POST /_dash-update-component HTTP/1.1\" 200 -\n",
      "127.0.0.1 - - [02/May/2022 12:03:45] \"POST /_dash-update-component HTTP/1.1\" 200 -\n",
      "127.0.0.1 - - [02/May/2022 12:03:46] \"POST /_dash-update-component HTTP/1.1\" 200 -\n",
      "127.0.0.1 - - [02/May/2022 12:03:46] \"POST /_dash-update-component HTTP/1.1\" 200 -\n",
      "127.0.0.1 - - [02/May/2022 12:03:46] \"POST /_dash-update-component HTTP/1.1\" 200 -\n",
      "127.0.0.1 - - [02/May/2022 12:03:46] \"POST /_dash-update-component HTTP/1.1\" 200 -\n",
      "127.0.0.1 - - [02/May/2022 12:04:05] \"POST /_dash-update-component HTTP/1.1\" 200 -\n",
      "127.0.0.1 - - [02/May/2022 12:04:05] \"POST /_dash-update-component HTTP/1.1\" 200 -\n",
      "127.0.0.1 - - [02/May/2022 12:04:06] \"POST /_dash-update-component HTTP/1.1\" 200 -\n",
      "127.0.0.1 - - [02/May/2022 12:04:06] \"POST /_dash-update-component HTTP/1.1\" 200 -\n",
      "127.0.0.1 - - [02/May/2022 12:04:06] \"POST /_dash-update-component HTTP/1.1\" 200 -\n",
      "127.0.0.1 - - [02/May/2022 12:04:06] \"POST /_dash-update-component HTTP/1.1\" 200 -\n",
      "127.0.0.1 - - [02/May/2022 12:04:25] \"POST /_dash-update-component HTTP/1.1\" 200 -\n",
      "127.0.0.1 - - [02/May/2022 12:04:25] \"POST /_dash-update-component HTTP/1.1\" 200 -\n",
      "127.0.0.1 - - [02/May/2022 12:04:26] \"POST /_dash-update-component HTTP/1.1\" 200 -\n",
      "127.0.0.1 - - [02/May/2022 12:04:26] \"POST /_dash-update-component HTTP/1.1\" 200 -\n",
      "127.0.0.1 - - [02/May/2022 12:04:26] \"POST /_dash-update-component HTTP/1.1\" 200 -\n",
      "127.0.0.1 - - [02/May/2022 12:04:26] \"POST /_dash-update-component HTTP/1.1\" 200 -\n",
      "127.0.0.1 - - [02/May/2022 12:04:45] \"POST /_dash-update-component HTTP/1.1\" 200 -\n",
      "127.0.0.1 - - [02/May/2022 12:04:45] \"POST /_dash-update-component HTTP/1.1\" 200 -\n",
      "127.0.0.1 - - [02/May/2022 12:04:46] \"POST /_dash-update-component HTTP/1.1\" 200 -\n",
      "127.0.0.1 - - [02/May/2022 12:04:46] \"POST /_dash-update-component HTTP/1.1\" 200 -\n",
      "127.0.0.1 - - [02/May/2022 12:04:46] \"POST /_dash-update-component HTTP/1.1\" 200 -\n",
      "127.0.0.1 - - [02/May/2022 12:04:46] \"POST /_dash-update-component HTTP/1.1\" 200 -\n",
      "127.0.0.1 - - [02/May/2022 12:05:05] \"POST /_dash-update-component HTTP/1.1\" 200 -\n",
      "127.0.0.1 - - [02/May/2022 12:05:05] \"POST /_dash-update-component HTTP/1.1\" 200 -\n",
      "127.0.0.1 - - [02/May/2022 12:05:06] \"POST /_dash-update-component HTTP/1.1\" 200 -\n",
      "127.0.0.1 - - [02/May/2022 12:05:06] \"POST /_dash-update-component HTTP/1.1\" 200 -\n",
      "127.0.0.1 - - [02/May/2022 12:05:06] \"POST /_dash-update-component HTTP/1.1\" 200 -\n",
      "127.0.0.1 - - [02/May/2022 12:05:06] \"POST /_dash-update-component HTTP/1.1\" 200 -\n",
      "127.0.0.1 - - [02/May/2022 12:05:25] \"POST /_dash-update-component HTTP/1.1\" 200 -\n",
      "127.0.0.1 - - [02/May/2022 12:05:25] \"POST /_dash-update-component HTTP/1.1\" 200 -\n",
      "127.0.0.1 - - [02/May/2022 12:05:26] \"POST /_dash-update-component HTTP/1.1\" 200 -\n",
      "127.0.0.1 - - [02/May/2022 12:05:26] \"POST /_dash-update-component HTTP/1.1\" 200 -\n",
      "127.0.0.1 - - [02/May/2022 12:05:26] \"POST /_dash-update-component HTTP/1.1\" 200 -\n",
      "127.0.0.1 - - [02/May/2022 12:05:26] \"POST /_dash-update-component HTTP/1.1\" 200 -\n"
     ]
    },
    {
     "name": "stderr",
     "output_type": "stream",
     "text": [
      "127.0.0.1 - - [02/May/2022 12:05:29] \"POST /_dash-update-component HTTP/1.1\" 200 -\n",
      "127.0.0.1 - - [02/May/2022 12:05:29] \"POST /_dash-update-component HTTP/1.1\" 200 -\n",
      "127.0.0.1 - - [02/May/2022 12:05:30] \"POST /_dash-update-component HTTP/1.1\" 200 -\n",
      "127.0.0.1 - - [02/May/2022 12:05:30] \"POST /_dash-update-component HTTP/1.1\" 200 -\n",
      "127.0.0.1 - - [02/May/2022 12:05:30] \"POST /_dash-update-component HTTP/1.1\" 200 -\n",
      "127.0.0.1 - - [02/May/2022 12:05:30] \"POST /_dash-update-component HTTP/1.1\" 200 -\n",
      "127.0.0.1 - - [02/May/2022 12:05:45] \"POST /_dash-update-component HTTP/1.1\" 200 -\n",
      "127.0.0.1 - - [02/May/2022 12:05:45] \"POST /_dash-update-component HTTP/1.1\" 200 -\n",
      "127.0.0.1 - - [02/May/2022 12:05:46] \"POST /_dash-update-component HTTP/1.1\" 200 -\n",
      "127.0.0.1 - - [02/May/2022 12:05:46] \"POST /_dash-update-component HTTP/1.1\" 200 -\n",
      "127.0.0.1 - - [02/May/2022 12:05:46] \"POST /_dash-update-component HTTP/1.1\" 200 -\n",
      "127.0.0.1 - - [02/May/2022 12:05:46] \"POST /_dash-update-component HTTP/1.1\" 200 -\n",
      "127.0.0.1 - - [02/May/2022 12:06:05] \"POST /_dash-update-component HTTP/1.1\" 200 -\n",
      "127.0.0.1 - - [02/May/2022 12:06:05] \"POST /_dash-update-component HTTP/1.1\" 200 -\n",
      "127.0.0.1 - - [02/May/2022 12:06:06] \"POST /_dash-update-component HTTP/1.1\" 200 -\n",
      "127.0.0.1 - - [02/May/2022 12:06:06] \"POST /_dash-update-component HTTP/1.1\" 200 -\n",
      "127.0.0.1 - - [02/May/2022 12:06:06] \"POST /_dash-update-component HTTP/1.1\" 200 -\n",
      "127.0.0.1 - - [02/May/2022 12:06:06] \"POST /_dash-update-component HTTP/1.1\" 200 -\n",
      "127.0.0.1 - - [02/May/2022 12:06:25] \"POST /_dash-update-component HTTP/1.1\" 200 -\n",
      "127.0.0.1 - - [02/May/2022 12:06:25] \"POST /_dash-update-component HTTP/1.1\" 200 -\n",
      "127.0.0.1 - - [02/May/2022 12:06:26] \"POST /_dash-update-component HTTP/1.1\" 200 -\n",
      "127.0.0.1 - - [02/May/2022 12:06:26] \"POST /_dash-update-component HTTP/1.1\" 200 -\n",
      "127.0.0.1 - - [02/May/2022 12:06:26] \"POST /_dash-update-component HTTP/1.1\" 200 -\n",
      "127.0.0.1 - - [02/May/2022 12:06:26] \"POST /_dash-update-component HTTP/1.1\" 200 -\n",
      "127.0.0.1 - - [02/May/2022 12:06:45] \"POST /_dash-update-component HTTP/1.1\" 200 -\n",
      "127.0.0.1 - - [02/May/2022 12:06:45] \"POST /_dash-update-component HTTP/1.1\" 200 -\n",
      "127.0.0.1 - - [02/May/2022 12:06:46] \"POST /_dash-update-component HTTP/1.1\" 200 -\n",
      "127.0.0.1 - - [02/May/2022 12:06:46] \"POST /_dash-update-component HTTP/1.1\" 200 -\n",
      "127.0.0.1 - - [02/May/2022 12:06:46] \"POST /_dash-update-component HTTP/1.1\" 200 -\n",
      "127.0.0.1 - - [02/May/2022 12:06:46] \"POST /_dash-update-component HTTP/1.1\" 200 -\n",
      "127.0.0.1 - - [02/May/2022 12:07:06] \"POST /_dash-update-component HTTP/1.1\" 200 -\n",
      "127.0.0.1 - - [02/May/2022 12:07:06] \"POST /_dash-update-component HTTP/1.1\" 200 -\n",
      "127.0.0.1 - - [02/May/2022 12:07:06] \"POST /_dash-update-component HTTP/1.1\" 200 -\n",
      "127.0.0.1 - - [02/May/2022 12:07:06] \"POST /_dash-update-component HTTP/1.1\" 200 -\n",
      "127.0.0.1 - - [02/May/2022 12:07:07] \"POST /_dash-update-component HTTP/1.1\" 200 -\n",
      "127.0.0.1 - - [02/May/2022 12:07:07] \"POST /_dash-update-component HTTP/1.1\" 200 -\n"
     ]
    }
   ],
   "source": [
    "if __name__ == '__main__':\n",
    "    app.run_server(\n",
    "        port=PORT)"
   ]
  },
  {
   "cell_type": "code",
   "execution_count": null,
   "id": "660176f6",
   "metadata": {
    "scrolled": true
   },
   "outputs": [],
   "source": []
  },
  {
   "cell_type": "code",
   "execution_count": null,
   "id": "ad11d756",
   "metadata": {},
   "outputs": [],
   "source": []
  },
  {
   "cell_type": "code",
   "execution_count": null,
   "id": "69999db4",
   "metadata": {},
   "outputs": [],
   "source": []
  }
 ],
 "metadata": {
  "kernelspec": {
   "display_name": "Python 3 (ipykernel)",
   "language": "python",
   "name": "python3"
  },
  "language_info": {
   "codemirror_mode": {
    "name": "ipython",
    "version": 3
   },
   "file_extension": ".py",
   "mimetype": "text/x-python",
   "name": "python",
   "nbconvert_exporter": "python",
   "pygments_lexer": "ipython3",
   "version": "3.9.6"
  }
 },
 "nbformat": 4,
 "nbformat_minor": 5
}
